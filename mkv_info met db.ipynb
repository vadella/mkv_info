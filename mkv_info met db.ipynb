{
 "cells": [
  {
   "cell_type": "code",
   "execution_count": 4,
   "metadata": {},
   "outputs": [
    {
     "name": "stdout",
     "output_type": "stream",
     "text": [
      "The autoreload extension is already loaded. To reload it, use:\n",
      "  %reload_ext autoreload\n"
     ]
    }
   ],
   "source": [
    "%load_ext autoreload"
   ]
  },
  {
   "cell_type": "code",
   "execution_count": 5,
   "metadata": {},
   "outputs": [],
   "source": [
    "%autoreload 2\n",
    "from video_bibliotheek.video_info_db import MkvFileDB"
   ]
  },
  {
   "cell_type": "code",
   "execution_count": 6,
   "metadata": {
    "collapsed": true
   },
   "outputs": [],
   "source": [
    "from pathlib import Path\n",
    "# from sqlalchemy import Base"
   ]
  },
  {
   "cell_type": "code",
   "execution_count": null,
   "metadata": {
    "collapsed": true
   },
   "outputs": [],
   "source": [
    "from sqlalchemy import create_engine"
   ]
  },
  {
   "cell_type": "code",
   "execution_count": null,
   "metadata": {
    "collapsed": true
   },
   "outputs": [],
   "source": [
    "engine = create_engine('sqlite:///file2.db', echo=True)"
   ]
  },
  {
   "cell_type": "code",
   "execution_count": null,
   "metadata": {
    "collapsed": true
   },
   "outputs": [],
   "source": [
    "from sqlalchemy.orm import sessionmaker"
   ]
  },
  {
   "cell_type": "code",
   "execution_count": null,
   "metadata": {
    "collapsed": true
   },
   "outputs": [],
   "source": [
    "data_dir = Path('data')\n",
    "filename = data_dir.joinpath('Blackadder - S01E01 - The Foretelling.mkv')"
   ]
  },
  {
   "cell_type": "code",
   "execution_count": 7,
   "metadata": {
    "collapsed": true
   },
   "outputs": [],
   "source": [
    "file_dir1 = Path(r'K:\\Library_Bluray\\films')\n",
    "file_dir2 = Path(r'K:\\Library_BR_SD\\films')\n",
    "file_dir3 = Path(r'K:\\Library_dvd\\films')"
   ]
  },
  {
   "cell_type": "code",
   "execution_count": null,
   "metadata": {},
   "outputs": [],
   "source": [
    "m = MkvFileDB(filename)\n",
    "m"
   ]
  },
  {
   "cell_type": "code",
   "execution_count": null,
   "metadata": {},
   "outputs": [],
   "source": [
    "filename = Path('Y:\\Walk the Line (2005)\\Walk the Line (2005).mkv')\n",
    "m2 = MkvFileDB(filename=filename)\n",
    "m2"
   ]
  },
  {
   "cell_type": "code",
   "execution_count": null,
   "metadata": {
    "collapsed": true
   },
   "outputs": [],
   "source": [
    "m"
   ]
  },
  {
   "cell_type": "code",
   "execution_count": null,
   "metadata": {},
   "outputs": [],
   "source": [
    "MkvFileDB.metadata.create_all(engine)"
   ]
  },
  {
   "cell_type": "code",
   "execution_count": null,
   "metadata": {},
   "outputs": [],
   "source": [
    "m.__table__"
   ]
  },
  {
   "cell_type": "code",
   "execution_count": null,
   "metadata": {
    "collapsed": true
   },
   "outputs": [],
   "source": [
    "Session = sessionmaker(bind=engine)\n",
    "session = Session()"
   ]
  },
  {
   "cell_type": "code",
   "execution_count": null,
   "metadata": {
    "collapsed": true
   },
   "outputs": [],
   "source": []
  },
  {
   "cell_type": "code",
   "execution_count": null,
   "metadata": {
    "collapsed": true
   },
   "outputs": [],
   "source": [
    "session.add(m)"
   ]
  },
  {
   "cell_type": "code",
   "execution_count": null,
   "metadata": {
    "collapsed": true
   },
   "outputs": [],
   "source": [
    "session.add(m2)"
   ]
  },
  {
   "cell_type": "code",
   "execution_count": null,
   "metadata": {
    "collapsed": true
   },
   "outputs": [],
   "source": [
    "for file in file_dir1.glob('**/*.mkv'):\n",
    "    session.add(MkvFileDB(file))"
   ]
  },
  {
   "cell_type": "code",
   "execution_count": null,
   "metadata": {},
   "outputs": [],
   "source": [
    "session"
   ]
  },
  {
   "cell_type": "code",
   "execution_count": null,
   "metadata": {},
   "outputs": [],
   "source": [
    "session.commit()"
   ]
  },
  {
   "cell_type": "code",
   "execution_count": null,
   "metadata": {
    "collapsed": true
   },
   "outputs": [],
   "source": [
    "session.flush()"
   ]
  },
  {
   "cell_type": "code",
   "execution_count": null,
   "metadata": {
    "collapsed": true
   },
   "outputs": [],
   "source": [
    "session.close()"
   ]
  },
  {
   "cell_type": "code",
   "execution_count": null,
   "metadata": {
    "scrolled": false
   },
   "outputs": [],
   "source": [
    "MkvFileDB(Path(r'K:\\Library_Bluray\\films\\West Side Story (1961)\\West Side Story (1961).mkv'))"
   ]
  },
  {
   "cell_type": "code",
   "execution_count": null,
   "metadata": {
    "collapsed": true
   },
   "outputs": [],
   "source": [
    "' '.join(['ffprobe', '-v', 'quiet', '-print_format', 'json', '-show_format', '-show_streams', '-sexagesimal', '\"K:\\\\Library_Bluray\\\\films\\\\West Side Story (1961)\\\\West Side Story (1961).mkv\"'])"
   ]
  },
  {
   "cell_type": "code",
   "execution_count": null,
   "metadata": {
    "collapsed": true
   },
   "outputs": [],
   "source": [
    "info_files1 = {file: MkvFileDB(file) for file in file_dir1.glob('**/*.mkv')}"
   ]
  },
  {
   "cell_type": "code",
   "execution_count": 19,
   "metadata": {},
   "outputs": [
    {
     "name": "stdout",
     "output_type": "stream",
     "text": [
      "K:\\Library_dvd\\films\\3 -10 to Yuma (2007)\\3 -10 to Yuma (2007).mkv\n",
      "            video: 01:57:21, 1.8 GB, ['<VideoStreamInfo(h264, (720 x 432))>']\n",
      "            audio: ['<AudioStreamInfo(eng, dts, 6ch, 5.1(side), 768kb/s)>', '<AudioStreamInfo(eng, ac3, 2ch, stereo, 224kb/s)>']\n",
      "            sub: ['<SubtitleStreamInfo(dut, 01:57:21)>']\n",
      "K:\\Library_dvd\\films\\300 (2006)\\300 (2006).mkv\n",
      "            video: 01:51:50, 2.5 GB, ['<VideoStreamInfo(h264, (720 x 432))>']\n",
      "            audio: ['<AudioStreamInfo(eng, ac3, 6ch, 5.1(side), 640kb/s)>', '<AudioStreamInfo(eng, ac3, 2ch, stereo, 224kb/s)>']\n",
      "            sub: ['<SubtitleStreamInfo(eng, 01:51:50)>', '<SubtitleStreamInfo(eng, 01:51:50)>', '<SubtitleStreamInfo(dut, 01:51:50)>']\n",
      "K:\\Library_dvd\\films\\9 (2009)\\9 (2009).mkv\n",
      "            video: 01:16:03, 1.1 GB, ['<VideoStreamInfo(h264, (720 x 544))>']\n",
      "            audio: ['<AudioStreamInfo(eng, ac3, 6ch, 5.1(side), 640kb/s)>', '<AudioStreamInfo(eng, ac3, 2ch, stereo, 224kb/s)>']\n",
      "            sub: ['<SubtitleStreamInfo(eng, 01:16:03)>', '<SubtitleStreamInfo(eng, 01:16:03)>', '<SubtitleStreamInfo(dut, 01:16:03)>']\n",
      "K:\\Library_dvd\\films\\A Fistful of Dollars (1964)\\A Fistful of Dollars (1964).mkv\n",
      "            video: 01:28:36, 2.2 GB, ['<VideoStreamInfo(h264, (720 x 448))>']\n",
      "            audio: ['<AudioStreamInfo(ita, ac3, 6ch, 5.1(side), 448kb/s)>', '<AudioStreamInfo(ita, aac, 2ch, stereo, -1kb/s)>']\n",
      "            sub: ['<SubtitleStreamInfo(dut, 01:28:36)>']\n",
      "K:\\Library_dvd\\films\\American Gangster (2007)\\American Gangster (2007).mkv\n",
      "            video: 02:48:37, 1.9 GB, ['<VideoStreamInfo(h264, (720 x 560))>']\n",
      "            audio: ['<AudioStreamInfo(eng, ac3, 6ch, 5.1(side), 384kb/s)>', '<AudioStreamInfo(eng, aac, 2ch, stereo, -1kb/s)>']\n",
      "            sub: ['<SubtitleStreamInfo(eng, 02:48:37)>', '<SubtitleStreamInfo(eng, 00:00:00)>', '<SubtitleStreamInfo(dut, 00:00:00)>']\n",
      "K:\\Library_dvd\\films\\Any Way the Wind Blows (2003)\\Any Way the Wind Blows (2003).mkv\n",
      "            video: 02:01:51, 1.7 GB, ['<VideoStreamInfo(h264, (720 x 448))>']\n",
      "            audio: ['<AudioStreamInfo(dut, ac3, 6ch, 5.1(side), 640kb/s)>', '<AudioStreamInfo(dut, ac3, 2ch, stereo, 224kb/s)>']\n",
      "            sub: ['<SubtitleStreamInfo(dut, 02:01:51)>', '<SubtitleStreamInfo(dut, 02:01:51)>', '<SubtitleStreamInfo(eng, 02:01:51)>']\n",
      "K:\\Library_dvd\\films\\Apocalypse Now Redux (1979)\\Apocalypse Now Redux (1979).mkv\n",
      "            video: 03:13:59, 3.7 GB, ['<VideoStreamInfo(h264, (720 x 512))>']\n",
      "            audio: ['<AudioStreamInfo(eng, ac3, 6ch, 5.1(side), 640kb/s)>', '<AudioStreamInfo(eng, ac3, 2ch, stereo, 224kb/s)>']\n",
      "            sub: ['<SubtitleStreamInfo(dut, 03:13:59)>']\n",
      "K:\\Library_dvd\\films\\Ben-Hur (1959)\\Ben-Hur (1959).mkv\n",
      "            video: 03:33:21, 3.6 GB, ['<VideoStreamInfo(h264, (720 x 376))>']\n",
      "            audio: ['<AudioStreamInfo(eng, ac3, 6ch, 5.1(side), 384kb/s)>', '<AudioStreamInfo(eng, aac, 2ch, stereo, -1kb/s)>']\n",
      "            sub: ['<SubtitleStreamInfo(eng, 03:33:21)>', '<SubtitleStreamInfo(dut, 03:33:21)>']\n",
      "K:\\Library_dvd\\films\\Big Fish (2003)\\Big Fish (2003).mkv\n",
      "            video: 02:00:01, 2.1 GB, ['<VideoStreamInfo(h264, (720 x 544))>']\n",
      "            audio: ['<AudioStreamInfo(eng, ac3, 6ch, 5.1(side), 640kb/s)>', '<AudioStreamInfo(eng, ac3, 2ch, stereo, 224kb/s)>']\n",
      "            sub: ['<SubtitleStreamInfo(eng, 02:00:01)>', '<SubtitleStreamInfo(dut, 02:00:01)>']\n",
      "K:\\Library_dvd\\films\\Black Swan (2010)\\Black Swan (2010).mkv\n",
      "            video: 01:43:43, 2.1 GB, ['<VideoStreamInfo(h264, (720 x 432))>']\n",
      "            audio: ['<AudioStreamInfo(eng, ac3, 6ch, 5.1(side), 640kb/s)>', '<AudioStreamInfo(eng, ac3, 2ch, stereo, 224kb/s)>']\n",
      "            sub: ['<SubtitleStreamInfo(eng, 00:00:00)>', '<SubtitleStreamInfo(dut, 00:00:00)>']\n",
      "K:\\Library_dvd\\films\\Blade Runner (1982)\\Blade Runner (1982).mkv\n",
      "            video: 01:51:48, 1.3 GB, ['<VideoStreamInfo(h264, (720 x 416))>']\n",
      "            audio: ['<AudioStreamInfo(eng, ac3, 2ch, stereo, 224kb/s)>', '<AudioStreamInfo(eng, ac3, 2ch, stereo, 224kb/s)>']\n",
      "            sub: ['<SubtitleStreamInfo(eng, 01:51:48)>', '<SubtitleStreamInfo(eng, 01:51:48)>', '<SubtitleStreamInfo(dut, 01:51:48)>']\n",
      "K:\\Library_dvd\\films\\Carlito's Way (1993)\\Carlito's Way (1993).mkv\n",
      "            video: 02:18:07, 2.1 GB, ['<VideoStreamInfo(h264, (720 x 432))>']\n",
      "            audio: ['<AudioStreamInfo(eng, ac3, 6ch, 5.1(side), 640kb/s)>', '<AudioStreamInfo(eng, ac3, 2ch, stereo, 224kb/s)>']\n",
      "            sub: ['<SubtitleStreamInfo(eng, 02:18:07)>', '<SubtitleStreamInfo(eng, 02:18:07)>', '<SubtitleStreamInfo(dut, 02:18:07)>']\n",
      "K:\\Library_dvd\\films\\Casino (1995)\\Casino (1995).mkv\n",
      "            video: 02:50:55, 1.8 GB, ['<VideoStreamInfo(h264, (720 x 320))>']\n",
      "            audio: ['<AudioStreamInfo(eng, ac3, 6ch, 5.1(side), 384kb/s)>', '<AudioStreamInfo(eng, ac3, 2ch, stereo, 224kb/s)>']\n",
      "            sub: ['<SubtitleStreamInfo(eng, 02:50:55)>', '<SubtitleStreamInfo(eng, 02:50:55)>', '<SubtitleStreamInfo(dut, 02:50:55)>']\n",
      "K:\\Library_dvd\\films\\Crouching Tiger, Hidden Dragon (2000)\\Crouching Tiger, Hidden Dragon (2000).mkv\n",
      "            video: 01:55:08, 1.6 GB, ['<VideoStreamInfo(h264, (720 x 432))>']\n",
      "            audio: ['<AudioStreamInfo(chi, ac3, 6ch, 5.1(side), 448kb/s)>', '<AudioStreamInfo(chi, ac3, 2ch, stereo, 224kb/s)>']\n",
      "            sub: ['<SubtitleStreamInfo(eng, 01:55:08)>', '<SubtitleStreamInfo(dut, 01:55:08)>']\n",
      "K:\\Library_dvd\\films\\Dagen zonder lief (2007)\\Dagen zonder lief (2007).mkv\n",
      "            video: 01:40:46, 3.8 GB, ['<VideoStreamInfo(h264, (720 x 560))>']\n",
      "            audio: ['<AudioStreamInfo(dut, ac3, 6ch, 5.1(side), 640kb/s)>', '<AudioStreamInfo(dut, ac3, 2ch, stereo, 224kb/s)>']\n",
      "            sub: ['<SubtitleStreamInfo(eng, 01:40:46)>']\n",
      "K:\\Library_dvd\\films\\Dirty Dancing 2 - Havana Nights (2004)\\Dirty Dancing 2 - Havana Nights (2004).mkv\n",
      "            video: 01:22:38, 1.4 GB, ['<VideoStreamInfo(h264, (720 x 560))>']\n",
      "            audio: ['<AudioStreamInfo(eng, ac3, 6ch, 5.1(side), 640kb/s)>', '<AudioStreamInfo(eng, ac3, 2ch, stereo, 224kb/s)>']\n",
      "            sub: ['<SubtitleStreamInfo(dut, 01:22:38)>']\n",
      "K:\\Library_dvd\\films\\Django Unchained (2012)\\Django Unchained (2012).mkv\n",
      "            video: 02:38:37, 2.1 GB, ['<VideoStreamInfo(h264, (720 x 432))>']\n",
      "            audio: ['<AudioStreamInfo(unknown_lang, ac3, 6ch, 5.1(side), 448kb/s)>', '<AudioStreamInfo(unknown_lang, aac, 2ch, stereo, -1kb/s)>']\n",
      "            sub: ['<SubtitleStreamInfo(unknown_lang, 02:38:37)>', '<SubtitleStreamInfo(unknown_lang, 02:38:37)>']\n",
      "K:\\Library_dvd\\films\\Drive (2011)\\Drive (2011).mkv\n",
      "            video: 01:36:10, 1.2 GB, ['<VideoStreamInfo(h264, (720 x 432))>']\n",
      "            audio: ['<AudioStreamInfo(eng, ac3, 6ch, 5.1(side), 640kb/s)>', '<AudioStreamInfo(eng, ac3, 2ch, stereo, 224kb/s)>']\n",
      "            sub: ['<SubtitleStreamInfo(dut, 01:36:10)>', '<SubtitleStreamInfo(fre, 01:36:10)>']\n",
      "K:\\Library_dvd\\films\\Elephant (2003)\\Elephant (2003).mkv\n",
      "            video: 01:18:03, 1.4 GB, ['<VideoStreamInfo(h264, (720 x 576))>']\n",
      "            audio: ['<AudioStreamInfo(eng, ac3, 6ch, 5.1(side), 640kb/s)>', '<AudioStreamInfo(eng, ac3, 2ch, stereo, 224kb/s)>']\n",
      "            sub: ['<SubtitleStreamInfo(dut, 01:18:03)>']\n",
      "K:\\Library_dvd\\films\\Finding Nemo Collection\\Finding Dory (2016)\\Finding Dory (2016).mkv\n",
      "            video: 01:33:05, 1.1 GB, ['<VideoStreamInfo(h264, (720 x 570))>']\n",
      "            audio: ['<AudioStreamInfo(dut, aac, 2ch, stereo, -1kb/s)>', '<AudioStreamInfo(eng, aac, 2ch, stereo, -1kb/s)>']\n",
      "            sub: ['<SubtitleStreamInfo(dut, 00:00:00)>', '<SubtitleStreamInfo(eng, 00:00:00)>']\n",
      "K:\\Library_dvd\\films\\Finding Nemo Collection\\Finding Nemo (2003)\\Finding Nemo (2003).mkv\n",
      "            video: 01:36:26, 2.7 GB, ['<VideoStreamInfo(h264, (720 x 576))>']\n",
      "            audio: ['<AudioStreamInfo(eng, dts, 6ch, 5.1(side), 768kb/s)>', '<AudioStreamInfo(eng, aac, 2ch, stereo, -1kb/s)>', '<AudioStreamInfo(dut, ac3, 6ch, 5.1(side), 384kb/s)>', '<AudioStreamInfo(dut, aac, 2ch, stereo, -1kb/s)>']\n",
      "            sub: ['<SubtitleStreamInfo(eng, 00:00:00)>', '<SubtitleStreamInfo(dut, 00:00:00)>']\n",
      "K:\\Library_dvd\\films\\Flags of our Fathers (2006)\\Flags of our Fathers (2006).mkv\n",
      "            video: 02:06:22, 1.8 GB, ['<VideoStreamInfo(h264, (720 x 416))>']\n",
      "            audio: ['<AudioStreamInfo(eng, ac3, 6ch, 5.1(side), 384kb/s)>', '<AudioStreamInfo(eng, aac, 2ch, stereo, -1kb/s)>']\n",
      "            sub: ['<SubtitleStreamInfo(eng, 02:06:22)>', '<SubtitleStreamInfo(eng, 02:06:22)>', '<SubtitleStreamInfo(dut, 02:06:22)>']\n",
      "K:\\Library_dvd\\films\\Happy Feet (2006)\\Happy Feet (2006).mkv\n",
      "            video: 01:44:02, 2.8 GB, ['<VideoStreamInfo(h264, (720 x 416))>']\n",
      "            audio: ['<AudioStreamInfo(eng, ac3, 6ch, 5.1(side), 640kb/s)>', '<AudioStreamInfo(eng, ac3, 2ch, stereo, 224kb/s)>', '<AudioStreamInfo(unknown_lang, ac3, 6ch, 5.1(side), 640kb/s)>', '<AudioStreamInfo(unknown_lang, aac, 2ch, stereo, -1kb/s)>']\n",
      "            sub: ['<SubtitleStreamInfo(eng, 01:44:02)>', '<SubtitleStreamInfo(eng, 01:44:02)>', '<SubtitleStreamInfo(dut, 01:44:02)>']\n",
      "K:\\Library_dvd\\films\\House of Flying Daggers (2004)\\House of Flying Daggers (2004).mkv\n",
      "            video: 01:54:23, 2.5 GB, ['<VideoStreamInfo(h264, (720 x 432))>']\n",
      "            audio: ['<AudioStreamInfo(eng, ac3, 6ch, 5.1(side), 640kb/s)>', '<AudioStreamInfo(eng, ac3, 2ch, stereo, 224kb/s)>']\n",
      "            sub: ['<SubtitleStreamInfo(dut, 01:54:23)>']\n",
      "K:\\Library_dvd\\films\\Inception (2010)\\Inception (2010).mkv\n",
      "            video: 02:22:03, 2.0 GB, ['<VideoStreamInfo(h264, (720 x 432))>']\n",
      "            audio: ['<AudioStreamInfo(eng, ac3, 6ch, 5.1(side), 640kb/s)>', '<AudioStreamInfo(eng, ac3, 2ch, stereo, 224kb/s)>']\n",
      "            sub: ['<SubtitleStreamInfo(eng, 02:22:03)>', '<SubtitleStreamInfo(eng, 02:22:03)>', '<SubtitleStreamInfo(dut, 02:22:03)>']\n"
     ]
    },
    {
     "name": "stdout",
     "output_type": "stream",
     "text": [
      "K:\\Library_dvd\\films\\Inglourious Basterds (2009)\\Inglourious Basterds (2009).mkv\n",
      "            video: 02:26:36, 1.7 GB, ['<VideoStreamInfo(h264, (720 x 432))>']\n",
      "            audio: ['<AudioStreamInfo(eng, ac3, 6ch, 5.1(side), 640kb/s)>', '<AudioStreamInfo(eng, ac3, 2ch, stereo, 224kb/s)>']\n",
      "            sub: ['<SubtitleStreamInfo(eng, 02:26:36)>', '<SubtitleStreamInfo(eng, 02:26:36)>', '<SubtitleStreamInfo(dut, 02:26:36)>']\n",
      "K:\\Library_dvd\\films\\Inside Out (2015)\\Inside Out (2015).mkv\n",
      "            video: 01:30:46, 1.1 GB, ['<VideoStreamInfo(h264, (720 x 570))>']\n",
      "            audio: ['<AudioStreamInfo(dut, aac, 2ch, stereo, -1kb/s)>', '<AudioStreamInfo(eng, aac, 2ch, stereo, -1kb/s)>']\n",
      "            sub: ['<SubtitleStreamInfo(dut, 00:00:00)>', '<SubtitleStreamInfo(eng, 00:00:00)>']\n",
      "K:\\Library_dvd\\films\\Interstella 5555 - The 5tory of the 5ecret 5tar 5ystem (2003)\\Interstella 5555 - The 5tory of the 5ecret 5tar 5ystem (2003).mkv\n",
      "            video: 01:05:12, 1.1 GB, ['<VideoStreamInfo(h264, (704 x 570))>']\n",
      "            audio: ['<AudioStreamInfo(eng, ac3, 2ch, stereo, 192kb/s)>', '<AudioStreamInfo(eng, dts, 6ch, 5.1(side), 768kb/s)>']\n",
      "            sub: ['<SubtitleStreamInfo(eng, 01:05:12)>', '<SubtitleStreamInfo(eng, 01:05:12)>']\n",
      "K:\\Library_dvd\\films\\Kill Bill - Vol. 1 (2003)\\Kill Bill - Vol. 1 (2003).mkv\n",
      "            video: 01:46:10, 1.7 GB, ['<VideoStreamInfo(h264, (720 x 432))>']\n",
      "            audio: ['<AudioStreamInfo(eng, dts, 6ch, 5.1(side), 768kb/s)>', '<AudioStreamInfo(eng, ac3, 2ch, stereo, 224kb/s)>']\n",
      "            sub: ['<SubtitleStreamInfo(dut, 01:46:10)>']\n",
      "K:\\Library_dvd\\films\\Kill Bill - Vol. 2 (2004)\\Kill Bill - Vol. 2 (2004).mkv\n",
      "            video: 02:11:19, 2.1 GB, ['<VideoStreamInfo(h264, (720 x 432))>']\n",
      "            audio: ['<AudioStreamInfo(eng, dts, 6ch, 5.1(side), 768kb/s)>', '<AudioStreamInfo(eng, ac3, 2ch, stereo, 224kb/s)>']\n",
      "            sub: ['<SubtitleStreamInfo(dut, 02:11:19)>']\n",
      "K:\\Library_dvd\\films\\Magnolia (1999)\\Magnolia (1999).mkv\n",
      "            video: 03:00:52, 2.1 GB, ['<VideoStreamInfo(h264, (720 x 416))>']\n",
      "            audio: ['<AudioStreamInfo(eng, ac3, 2ch, stereo, 320kb/s)>', '<AudioStreamInfo(eng, ac3, 2ch, stereo, 224kb/s)>']\n",
      "            sub: ['<SubtitleStreamInfo(dut, 03:00:52)>']\n",
      "K:\\Library_dvd\\films\\Metropolis (1927)\\Metropolis (1927).mkv\n",
      "            video: 02:24:06, 2.9 GB, ['<VideoStreamInfo(h264, (720 x 592))>']\n",
      "            audio: ['<AudioStreamInfo(eng, ac3, 6ch, 5.1(side), 640kb/s)>', '<AudioStreamInfo(eng, ac3, 2ch, stereo, 224kb/s)>']\n",
      "            sub: ['<SubtitleStreamInfo(dut, 02:24:06)>']\n",
      "K:\\Library_dvd\\films\\Monty Python's Life of Brian (1979)\\Monty Python's Life of Brian (1979).mkv\n",
      "            video: 01:29:52, 2.8 GB, ['<VideoStreamInfo(h264, (720 x 544))>']\n",
      "            audio: ['<AudioStreamInfo(eng, ac3, 6ch, 5.1(side), 640kb/s)>', '<AudioStreamInfo(eng, ac3, 2ch, stereo, 224kb/s)>']\n",
      "            sub: ['<SubtitleStreamInfo(eng, 01:29:52)>', '<SubtitleStreamInfo(dut, 01:29:52)>']\n",
      "K:\\Library_dvd\\films\\Mulholland Drive (2001)\\Mulholland Drive (2001).mkv\n",
      "            video: 02:20:32, 2.2 GB, ['<VideoStreamInfo(h264, (720 x 560))>']\n",
      "            audio: ['<AudioStreamInfo(eng, dts, 6ch, 5.1(side), 768kb/s)>', '<AudioStreamInfo(eng, ac3, 2ch, stereo, 192kb/s)>']\n",
      "            sub: ['<SubtitleStreamInfo(dut, 02:20:32)>']\n",
      "K:\\Library_dvd\\films\\Nosferatu (1922)\\Nosferatu (1922).mkv\n",
      "            video: 01:34:07, 2.1 GB, ['<VideoStreamInfo(h264, (720 x 576))>']\n",
      "            audio: ['<AudioStreamInfo(eng, ac3, 6ch, 5.1(side), 640kb/s)>', '<AudioStreamInfo(eng, ac3, 2ch, stereo, 224kb/s)>']\n",
      "            sub: ['<SubtitleStreamInfo(dut, 01:34:07)>']\n",
      "K:\\Library_dvd\\films\\Once Upon a Time in America (1984)\\Once Upon a Time in America (1984).mkv\n",
      "            video: 03:39:32, 6.8 GB, ['<VideoStreamInfo(h264, (720 x 576))>']\n",
      "            audio: ['<AudioStreamInfo(eng, ac3, 6ch, 5.1(side), 384kb/s)>', '<AudioStreamInfo(eng, aac, 2ch, stereo, -1kb/s)>']\n",
      "            sub: ['<SubtitleStreamInfo(eng, 03:39:32)>', '<SubtitleStreamInfo(dut, 03:39:32)>']\n",
      "K:\\Library_dvd\\films\\Queen Rock Montreal & Live Aid (1981)\\Queen Rock Montreal & Live Aid (1981).mkv\n",
      "            video: 01:35:21, 2.4 GB, ['<VideoStreamInfo(h264, (720 x 576))>']\n",
      "            audio: ['<AudioStreamInfo(eng, dts, 6ch, 5.1(side), 1536kb/s)>', '<AudioStreamInfo(eng, aac, 2ch, stereo, -1kb/s)>']\n",
      "            sub: ['<SubtitleStreamInfo(eng, 01:35:21)>', '<SubtitleStreamInfo(dut, 01:35:21)>', '<SubtitleStreamInfo(eng, 01:35:21)>', '<SubtitleStreamInfo(eng, 01:35:21)>']\n",
      "K:\\Library_dvd\\films\\Radiohead - Meeting People Is Easy (1998)\\Radiohead - Meeting People Is Easy (1998).mkv\n",
      "            video: 01:34:04, 2.3 GB, ['<VideoStreamInfo(h264, (696 x 584))>']\n",
      "            audio: ['<AudioStreamInfo(eng, ac3, 6ch, 5.1(side), 448kb/s)>', '<AudioStreamInfo(eng, ac3, 2ch, stereo, 192kb/s)>']\n",
      "            sub: []\n",
      "K:\\Library_dvd\\films\\Scarface (1983)\\Scarface (1983).mkv\n",
      "            video: 02:42:57, 3.1 GB, ['<VideoStreamInfo(h264, (720 x 432))>']\n",
      "            audio: ['<AudioStreamInfo(eng, ac3, 6ch, 5.1(side), 640kb/s)>', '<AudioStreamInfo(eng, ac3, 2ch, stereo, 224kb/s)>']\n",
      "            sub: ['<SubtitleStreamInfo(eng, 02:42:57)>', '<SubtitleStreamInfo(eng, 02:42:57)>', '<SubtitleStreamInfo(dut, 02:42:57)>']\n",
      "K:\\Library_dvd\\films\\Shakespeare in Love (1998)\\Shakespeare in Love (1998).mkv\n",
      "            video: 01:58:36, 1.9 GB, ['<VideoStreamInfo(h264, (720 x 432))>']\n",
      "            audio: ['<AudioStreamInfo(eng, ac3, 6ch, 5.1(side), 640kb/s)>', '<AudioStreamInfo(eng, ac3, 2ch, stereo, 224kb/s)>']\n",
      "            sub: ['<SubtitleStreamInfo(eng, 01:58:36)>', '<SubtitleStreamInfo(dut, 01:58:36)>']\n",
      "K:\\Library_dvd\\films\\Spring, Summer, Fall, Winter... and Spring (2003)\\Spring, Summer, Fall, Winter... and Spring (2003).mkv\n",
      "            video: 01:38:17, 2.5 GB, ['<VideoStreamInfo(h264, (720 x 560))>']\n",
      "            audio: ['<AudioStreamInfo(kor, ac3, 6ch, 5.1(side), 448kb/s)>', '<AudioStreamInfo(kor, ac3, 2ch, stereo, 192kb/s)>']\n",
      "            sub: ['<SubtitleStreamInfo(dut, 01:38:17)>']\n",
      "K:\\Library_dvd\\films\\Steve + Sky (2004)\\Steve + Sky (2004).mkv\n",
      "            video: 01:37:21, 2.9 GB, ['<VideoStreamInfo(h264, (720 x 560))>']\n",
      "            audio: ['<AudioStreamInfo(dut, ac3, 6ch, 5.1(side), 640kb/s)>', '<AudioStreamInfo(dut, ac3, 2ch, stereo, 224kb/s)>']\n",
      "            sub: ['<SubtitleStreamInfo(dut, 01:37:21)>']\n",
      "K:\\Library_dvd\\films\\Taxi Driver (1976)\\Taxi Driver (1976).mkv\n",
      "            video: 01:49:07, 2.3 GB, ['<VideoStreamInfo(h264, (720 x 544))>']\n",
      "            audio: ['<AudioStreamInfo(eng, ac3, 6ch, 5.1(side), 448kb/s)>', '<AudioStreamInfo(eng, ac3, 2ch, stereo, 224kb/s)>']\n",
      "            sub: ['<SubtitleStreamInfo(eng, 01:49:07)>', '<SubtitleStreamInfo(dut, 01:49:07)>']\n",
      "K:\\Library_dvd\\films\\The Broken Circle Breakdown (2012)\\The Broken Circle Breakdown (2012).mkv\n",
      "            video: 01:37:01, 1.9 GB, ['<VideoStreamInfo(h264, (720 x 576))>']\n",
      "            audio: ['<AudioStreamInfo(eng, ac3, 6ch, 5.1(side), 640kb/s)>', '<AudioStreamInfo(eng, aac, 2ch, stereo, -1kb/s)>']\n",
      "            sub: ['<SubtitleStreamInfo(dut, 01:37:01)>']\n",
      "K:\\Library_dvd\\films\\The Good, the Bad and the Ugly (1966)\\The Good, the Bad and the Ugly (1966).mkv\n",
      "            video: 02:51:21, 3.4 GB, ['<VideoStreamInfo(h264, (720 x 432))>']\n",
      "            audio: ['<AudioStreamInfo(eng, ac3, 6ch, 5.1(side), 448kb/s)>', '<AudioStreamInfo(eng, ac3, 2ch, stereo, 224kb/s)>']\n",
      "            sub: ['<SubtitleStreamInfo(eng, 02:51:21)>', '<SubtitleStreamInfo(dut, 02:51:21)>']\n",
      "K:\\Library_dvd\\films\\The Piano (1993)\\The Piano (1993).mkv\n",
      "            video: 01:55:20, 1.6 GB, ['<VideoStreamInfo(h264, (720 x 560))>']\n",
      "            audio: ['<AudioStreamInfo(eng, ac3, 2ch, stereo, 224kb/s)>', '<AudioStreamInfo(eng, ac3, 2ch, stereo, 224kb/s)>']\n",
      "            sub: ['<SubtitleStreamInfo(dut, 01:55:20)>']\n",
      "K:\\Library_dvd\\films\\The Wolf of Wall Street (2013)\\The Wolf of Wall Street (2013).mkv\n",
      "            video: 02:52:09, 2.1 GB, ['<VideoStreamInfo(h264, (720 x 432))>']\n",
      "            audio: ['<AudioStreamInfo(unknown_lang, ac3, 6ch, 5.1(side), 448kb/s)>', '<AudioStreamInfo(unknown_lang, aac, 2ch, stereo, -1kb/s)>']\n",
      "            sub: ['<SubtitleStreamInfo(unknown_lang, 02:52:09)>']\n",
      "K:\\Library_dvd\\films\\There Will Be Blood (2007)\\There Will Be Blood (2007).mkv\n",
      "            video: 02:31:54, 2.4 GB, ['<VideoStreamInfo(h264, (720 x 432))>']\n",
      "            audio: ['<AudioStreamInfo(eng, ac3, 6ch, 5.1(side), 640kb/s)>', '<AudioStreamInfo(eng, ac3, 2ch, stereo, 224kb/s)>']\n",
      "            sub: ['<SubtitleStreamInfo(eng, 02:31:54)>', '<SubtitleStreamInfo(eng, 00:00:00)>', '<SubtitleStreamInfo(dut, 00:00:00)>']\n"
     ]
    },
    {
     "name": "stdout",
     "output_type": "stream",
     "text": [
      "K:\\Library_dvd\\films\\Walk the Line (2005)\\Walk the Line (2005).mkv\n",
      "            video: 02:10:18, 1.9 GB, ['<VideoStreamInfo(h264, (720 x 416))>']\n",
      "            audio: ['<AudioStreamInfo(eng, dts, 6ch, 5.1(side), 768kb/s)>', '<AudioStreamInfo(eng, ac3, 2ch, stereo, 224kb/s)>']\n",
      "            sub: ['<SubtitleStreamInfo(eng, 00:00:00)>', '<SubtitleStreamInfo(dut, 00:00:00)>', '<SubtitleStreamInfo(dut, 00:00:00)>']\n",
      "K:\\Library_dvd\\films\\WALL·E (2008)\\WALL·E (2008).mkv\n",
      "            video: 01:33:20, 2.0 GB, ['<VideoStreamInfo(h264, (720 x 432))>']\n",
      "            audio: ['<AudioStreamInfo(eng, ac3, 6ch, 5.1(side), 640kb/s)>', '<AudioStreamInfo(eng, ac3, 2ch, stereo, 224kb/s)>', '<AudioStreamInfo(dut, ac3, 6ch, 5.1(side), 640kb/s)>', '<AudioStreamInfo(dut, aac, 2ch, stereo, -1kb/s)>']\n",
      "            sub: ['<SubtitleStreamInfo(eng, 01:33:20)>', '<SubtitleStreamInfo(eng, 00:00:00)>', '<SubtitleStreamInfo(dut, 00:00:00)>']\n",
      "K:\\Library_dvd\\films\\Waltz with Bashir (2008)\\Waltz with Bashir (2008).mkv\n",
      "            video: 01:26:41, 1.6 GB, ['<VideoStreamInfo(h264, (720 x 576))>']\n",
      "            audio: ['<AudioStreamInfo(eng, ac3, 6ch, 5.1(side), 640kb/s)>', '<AudioStreamInfo(eng, ac3, 2ch, stereo, 224kb/s)>']\n",
      "            sub: ['<SubtitleStreamInfo(dut, 01:26:41)>']\n"
     ]
    }
   ],
   "source": [
    "for file in file_dir3.glob('**/*.mkv'):\n",
    "    m = MkvFileDB(file)\n",
    "    if len(m.audio) > 1:\n",
    "        print(m)"
   ]
  },
  {
   "cell_type": "code",
   "execution_count": 18,
   "metadata": {},
   "outputs": [
    {
     "name": "stdout",
     "output_type": "stream",
     "text": [
      "K:\\Library_dvd\\films\\3 -10 to Yuma (2007)\\3 -10 to Yuma (2007).mkv\n",
      "            video: 01:57:21, 1.8 GB, ['<VideoStreamInfo(h264, (720 x 432))>']\n",
      "            audio: ['<AudioStreamInfo(eng, dts, 6ch, 5.1(side), 768kb/s)>', '<AudioStreamInfo(eng, ac3, 2ch, stereo, 224kb/s)>']\n",
      "            sub: ['<SubtitleStreamInfo(dut, 01:57:21)>']\n",
      "K:\\Library_dvd\\films\\300 (2006)\\300 (2006).mkv\n",
      "            video: 01:51:50, 2.5 GB, ['<VideoStreamInfo(h264, (720 x 432))>']\n",
      "            audio: ['<AudioStreamInfo(eng, ac3, 6ch, 5.1(side), 640kb/s)>', '<AudioStreamInfo(eng, ac3, 2ch, stereo, 224kb/s)>']\n",
      "            sub: ['<SubtitleStreamInfo(eng, 01:51:50)>', '<SubtitleStreamInfo(eng, 01:51:50)>', '<SubtitleStreamInfo(dut, 01:51:50)>']\n",
      "K:\\Library_dvd\\films\\9 (2009)\\9 (2009).mkv\n",
      "            video: 01:16:03, 1.1 GB, ['<VideoStreamInfo(h264, (720 x 544))>']\n",
      "            audio: ['<AudioStreamInfo(eng, ac3, 6ch, 5.1(side), 640kb/s)>', '<AudioStreamInfo(eng, ac3, 2ch, stereo, 224kb/s)>']\n",
      "            sub: ['<SubtitleStreamInfo(eng, 01:16:03)>', '<SubtitleStreamInfo(eng, 01:16:03)>', '<SubtitleStreamInfo(dut, 01:16:03)>']\n",
      "K:\\Library_dvd\\films\\A Fistful of Dollars (1964)\\A Fistful of Dollars (1964).mkv\n",
      "            video: 01:28:36, 2.2 GB, ['<VideoStreamInfo(h264, (720 x 448))>']\n",
      "            audio: ['<AudioStreamInfo(ita, ac3, 6ch, 5.1(side), 448kb/s)>', '<AudioStreamInfo(ita, aac, 2ch, stereo, -1kb/s)>']\n",
      "            sub: ['<SubtitleStreamInfo(dut, 01:28:36)>']\n",
      "K:\\Library_dvd\\films\\American Gangster (2007)\\American Gangster (2007).mkv\n",
      "            video: 02:48:37, 1.9 GB, ['<VideoStreamInfo(h264, (720 x 560))>']\n",
      "            audio: ['<AudioStreamInfo(eng, ac3, 6ch, 5.1(side), 384kb/s)>', '<AudioStreamInfo(eng, aac, 2ch, stereo, -1kb/s)>']\n",
      "            sub: ['<SubtitleStreamInfo(eng, 02:48:37)>', '<SubtitleStreamInfo(eng, 00:00:00)>', '<SubtitleStreamInfo(dut, 00:00:00)>']\n",
      "K:\\Library_dvd\\films\\Any Way the Wind Blows (2003)\\Any Way the Wind Blows (2003).mkv\n",
      "            video: 02:01:51, 1.7 GB, ['<VideoStreamInfo(h264, (720 x 448))>']\n",
      "            audio: ['<AudioStreamInfo(dut, ac3, 6ch, 5.1(side), 640kb/s)>', '<AudioStreamInfo(dut, ac3, 2ch, stereo, 224kb/s)>']\n",
      "            sub: ['<SubtitleStreamInfo(dut, 02:01:51)>', '<SubtitleStreamInfo(dut, 02:01:51)>', '<SubtitleStreamInfo(eng, 02:01:51)>']\n",
      "K:\\Library_dvd\\films\\Apocalypse Now Redux (1979)\\Apocalypse Now Redux (1979).mkv\n",
      "            video: 03:13:59, 3.7 GB, ['<VideoStreamInfo(h264, (720 x 512))>']\n",
      "            audio: ['<AudioStreamInfo(eng, ac3, 6ch, 5.1(side), 640kb/s)>', '<AudioStreamInfo(eng, ac3, 2ch, stereo, 224kb/s)>']\n",
      "            sub: ['<SubtitleStreamInfo(dut, 03:13:59)>']\n",
      "K:\\Library_dvd\\films\\Ben-Hur (1959)\\Ben-Hur (1959).mkv\n",
      "            video: 03:33:21, 3.6 GB, ['<VideoStreamInfo(h264, (720 x 376))>']\n",
      "            audio: ['<AudioStreamInfo(eng, ac3, 6ch, 5.1(side), 384kb/s)>', '<AudioStreamInfo(eng, aac, 2ch, stereo, -1kb/s)>']\n",
      "            sub: ['<SubtitleStreamInfo(eng, 03:33:21)>', '<SubtitleStreamInfo(dut, 03:33:21)>']\n",
      "K:\\Library_dvd\\films\\Big Fish (2003)\\Big Fish (2003).mkv\n",
      "            video: 02:00:01, 2.1 GB, ['<VideoStreamInfo(h264, (720 x 544))>']\n",
      "            audio: ['<AudioStreamInfo(eng, ac3, 6ch, 5.1(side), 640kb/s)>', '<AudioStreamInfo(eng, ac3, 2ch, stereo, 224kb/s)>']\n",
      "            sub: ['<SubtitleStreamInfo(eng, 02:00:01)>', '<SubtitleStreamInfo(dut, 02:00:01)>']\n",
      "K:\\Library_dvd\\films\\Black Swan (2010)\\Black Swan (2010).mkv\n",
      "            video: 01:43:43, 2.1 GB, ['<VideoStreamInfo(h264, (720 x 432))>']\n",
      "            audio: ['<AudioStreamInfo(eng, ac3, 6ch, 5.1(side), 640kb/s)>', '<AudioStreamInfo(eng, ac3, 2ch, stereo, 224kb/s)>']\n",
      "            sub: ['<SubtitleStreamInfo(eng, 00:00:00)>', '<SubtitleStreamInfo(dut, 00:00:00)>']\n",
      "K:\\Library_dvd\\films\\Carlito's Way (1993)\\Carlito's Way (1993).mkv\n",
      "            video: 02:18:07, 2.1 GB, ['<VideoStreamInfo(h264, (720 x 432))>']\n",
      "            audio: ['<AudioStreamInfo(eng, ac3, 6ch, 5.1(side), 640kb/s)>', '<AudioStreamInfo(eng, ac3, 2ch, stereo, 224kb/s)>']\n",
      "            sub: ['<SubtitleStreamInfo(eng, 02:18:07)>', '<SubtitleStreamInfo(eng, 02:18:07)>', '<SubtitleStreamInfo(dut, 02:18:07)>']\n",
      "K:\\Library_dvd\\films\\Casino (1995)\\Casino (1995).mkv\n",
      "            video: 02:50:55, 1.8 GB, ['<VideoStreamInfo(h264, (720 x 320))>']\n",
      "            audio: ['<AudioStreamInfo(eng, ac3, 6ch, 5.1(side), 384kb/s)>', '<AudioStreamInfo(eng, ac3, 2ch, stereo, 224kb/s)>']\n",
      "            sub: ['<SubtitleStreamInfo(eng, 02:50:55)>', '<SubtitleStreamInfo(eng, 02:50:55)>', '<SubtitleStreamInfo(dut, 02:50:55)>']\n",
      "K:\\Library_dvd\\films\\Crouching Tiger, Hidden Dragon (2000)\\Crouching Tiger, Hidden Dragon (2000).mkv\n",
      "            video: 01:55:08, 1.6 GB, ['<VideoStreamInfo(h264, (720 x 432))>']\n",
      "            audio: ['<AudioStreamInfo(chi, ac3, 6ch, 5.1(side), 448kb/s)>', '<AudioStreamInfo(chi, ac3, 2ch, stereo, 224kb/s)>']\n",
      "            sub: ['<SubtitleStreamInfo(eng, 01:55:08)>', '<SubtitleStreamInfo(dut, 01:55:08)>']\n",
      "K:\\Library_dvd\\films\\Dagen zonder lief (2007)\\Dagen zonder lief (2007).mkv\n",
      "            video: 01:40:46, 3.8 GB, ['<VideoStreamInfo(h264, (720 x 560))>']\n",
      "            audio: ['<AudioStreamInfo(dut, ac3, 6ch, 5.1(side), 640kb/s)>', '<AudioStreamInfo(dut, ac3, 2ch, stereo, 224kb/s)>']\n",
      "            sub: ['<SubtitleStreamInfo(eng, 01:40:46)>']\n",
      "K:\\Library_dvd\\films\\Dirty Dancing 2 - Havana Nights (2004)\\Dirty Dancing 2 - Havana Nights (2004).mkv\n",
      "            video: 01:22:38, 1.4 GB, ['<VideoStreamInfo(h264, (720 x 560))>']\n",
      "            audio: ['<AudioStreamInfo(eng, ac3, 6ch, 5.1(side), 640kb/s)>', '<AudioStreamInfo(eng, ac3, 2ch, stereo, 224kb/s)>']\n",
      "            sub: ['<SubtitleStreamInfo(dut, 01:22:38)>']\n",
      "K:\\Library_dvd\\films\\Django Unchained (2012)\\Django Unchained (2012).mkv\n",
      "            video: 02:38:37, 2.1 GB, ['<VideoStreamInfo(h264, (720 x 432))>']\n",
      "            audio: ['<AudioStreamInfo(unknown_lang, ac3, 6ch, 5.1(side), 448kb/s)>', '<AudioStreamInfo(unknown_lang, aac, 2ch, stereo, -1kb/s)>']\n",
      "            sub: ['<SubtitleStreamInfo(unknown_lang, 02:38:37)>', '<SubtitleStreamInfo(unknown_lang, 02:38:37)>']\n",
      "K:\\Library_dvd\\films\\Drive (2011)\\Drive (2011).mkv\n",
      "            video: 01:36:10, 1.2 GB, ['<VideoStreamInfo(h264, (720 x 432))>']\n",
      "            audio: ['<AudioStreamInfo(eng, ac3, 6ch, 5.1(side), 640kb/s)>', '<AudioStreamInfo(eng, ac3, 2ch, stereo, 224kb/s)>']\n",
      "            sub: ['<SubtitleStreamInfo(dut, 01:36:10)>', '<SubtitleStreamInfo(fre, 01:36:10)>']\n",
      "K:\\Library_dvd\\films\\Elephant (2003)\\Elephant (2003).mkv\n",
      "            video: 01:18:03, 1.4 GB, ['<VideoStreamInfo(h264, (720 x 576))>']\n",
      "            audio: ['<AudioStreamInfo(eng, ac3, 6ch, 5.1(side), 640kb/s)>', '<AudioStreamInfo(eng, ac3, 2ch, stereo, 224kb/s)>']\n",
      "            sub: ['<SubtitleStreamInfo(dut, 01:18:03)>']\n",
      "K:\\Library_dvd\\films\\Finding Nemo Collection\\Finding Nemo (2003)\\Finding Nemo (2003).mkv\n",
      "            video: 01:36:26, 2.7 GB, ['<VideoStreamInfo(h264, (720 x 576))>']\n",
      "            audio: ['<AudioStreamInfo(eng, dts, 6ch, 5.1(side), 768kb/s)>', '<AudioStreamInfo(eng, aac, 2ch, stereo, -1kb/s)>', '<AudioStreamInfo(dut, ac3, 6ch, 5.1(side), 384kb/s)>', '<AudioStreamInfo(dut, aac, 2ch, stereo, -1kb/s)>']\n",
      "            sub: ['<SubtitleStreamInfo(eng, 00:00:00)>', '<SubtitleStreamInfo(dut, 00:00:00)>']\n",
      "K:\\Library_dvd\\films\\Flags of our Fathers (2006)\\Flags of our Fathers (2006).mkv\n",
      "            video: 02:06:22, 1.8 GB, ['<VideoStreamInfo(h264, (720 x 416))>']\n",
      "            audio: ['<AudioStreamInfo(eng, ac3, 6ch, 5.1(side), 384kb/s)>', '<AudioStreamInfo(eng, aac, 2ch, stereo, -1kb/s)>']\n",
      "            sub: ['<SubtitleStreamInfo(eng, 02:06:22)>', '<SubtitleStreamInfo(eng, 02:06:22)>', '<SubtitleStreamInfo(dut, 02:06:22)>']\n",
      "K:\\Library_dvd\\films\\Happy Feet (2006)\\Happy Feet (2006).mkv\n",
      "            video: 01:44:02, 2.8 GB, ['<VideoStreamInfo(h264, (720 x 416))>']\n",
      "            audio: ['<AudioStreamInfo(eng, ac3, 6ch, 5.1(side), 640kb/s)>', '<AudioStreamInfo(eng, ac3, 2ch, stereo, 224kb/s)>', '<AudioStreamInfo(unknown_lang, ac3, 6ch, 5.1(side), 640kb/s)>', '<AudioStreamInfo(unknown_lang, aac, 2ch, stereo, -1kb/s)>']\n",
      "            sub: ['<SubtitleStreamInfo(eng, 01:44:02)>', '<SubtitleStreamInfo(eng, 01:44:02)>', '<SubtitleStreamInfo(dut, 01:44:02)>']\n",
      "K:\\Library_dvd\\films\\House of Flying Daggers (2004)\\House of Flying Daggers (2004).mkv\n",
      "            video: 01:54:23, 2.5 GB, ['<VideoStreamInfo(h264, (720 x 432))>']\n",
      "            audio: ['<AudioStreamInfo(eng, ac3, 6ch, 5.1(side), 640kb/s)>', '<AudioStreamInfo(eng, ac3, 2ch, stereo, 224kb/s)>']\n",
      "            sub: ['<SubtitleStreamInfo(dut, 01:54:23)>']\n"
     ]
    },
    {
     "name": "stdout",
     "output_type": "stream",
     "text": [
      "K:\\Library_dvd\\films\\Inception (2010)\\Inception (2010).mkv\n",
      "            video: 02:22:03, 2.0 GB, ['<VideoStreamInfo(h264, (720 x 432))>']\n",
      "            audio: ['<AudioStreamInfo(eng, ac3, 6ch, 5.1(side), 640kb/s)>', '<AudioStreamInfo(eng, ac3, 2ch, stereo, 224kb/s)>']\n",
      "            sub: ['<SubtitleStreamInfo(eng, 02:22:03)>', '<SubtitleStreamInfo(eng, 02:22:03)>', '<SubtitleStreamInfo(dut, 02:22:03)>']\n",
      "K:\\Library_dvd\\films\\Inglourious Basterds (2009)\\Inglourious Basterds (2009).mkv\n",
      "            video: 02:26:36, 1.7 GB, ['<VideoStreamInfo(h264, (720 x 432))>']\n",
      "            audio: ['<AudioStreamInfo(eng, ac3, 6ch, 5.1(side), 640kb/s)>', '<AudioStreamInfo(eng, ac3, 2ch, stereo, 224kb/s)>']\n",
      "            sub: ['<SubtitleStreamInfo(eng, 02:26:36)>', '<SubtitleStreamInfo(eng, 02:26:36)>', '<SubtitleStreamInfo(dut, 02:26:36)>']\n",
      "K:\\Library_dvd\\films\\Interstella 5555 - The 5tory of the 5ecret 5tar 5ystem (2003)\\Interstella 5555 - The 5tory of the 5ecret 5tar 5ystem (2003).mkv\n",
      "            video: 01:05:12, 1.1 GB, ['<VideoStreamInfo(h264, (704 x 570))>']\n",
      "            audio: ['<AudioStreamInfo(eng, ac3, 2ch, stereo, 192kb/s)>', '<AudioStreamInfo(eng, dts, 6ch, 5.1(side), 768kb/s)>']\n",
      "            sub: ['<SubtitleStreamInfo(eng, 01:05:12)>', '<SubtitleStreamInfo(eng, 01:05:12)>']\n",
      "K:\\Library_dvd\\films\\Kill Bill - Vol. 1 (2003)\\Kill Bill - Vol. 1 (2003).mkv\n",
      "            video: 01:46:10, 1.7 GB, ['<VideoStreamInfo(h264, (720 x 432))>']\n",
      "            audio: ['<AudioStreamInfo(eng, dts, 6ch, 5.1(side), 768kb/s)>', '<AudioStreamInfo(eng, ac3, 2ch, stereo, 224kb/s)>']\n",
      "            sub: ['<SubtitleStreamInfo(dut, 01:46:10)>']\n",
      "K:\\Library_dvd\\films\\Kill Bill - Vol. 2 (2004)\\Kill Bill - Vol. 2 (2004).mkv\n",
      "            video: 02:11:19, 2.1 GB, ['<VideoStreamInfo(h264, (720 x 432))>']\n",
      "            audio: ['<AudioStreamInfo(eng, dts, 6ch, 5.1(side), 768kb/s)>', '<AudioStreamInfo(eng, ac3, 2ch, stereo, 224kb/s)>']\n",
      "            sub: ['<SubtitleStreamInfo(dut, 02:11:19)>']\n",
      "K:\\Library_dvd\\films\\Metropolis (1927)\\Metropolis (1927).mkv\n",
      "            video: 02:24:06, 2.9 GB, ['<VideoStreamInfo(h264, (720 x 592))>']\n",
      "            audio: ['<AudioStreamInfo(eng, ac3, 6ch, 5.1(side), 640kb/s)>', '<AudioStreamInfo(eng, ac3, 2ch, stereo, 224kb/s)>']\n",
      "            sub: ['<SubtitleStreamInfo(dut, 02:24:06)>']\n",
      "K:\\Library_dvd\\films\\Monty Python's Life of Brian (1979)\\Monty Python's Life of Brian (1979).mkv\n",
      "            video: 01:29:52, 2.8 GB, ['<VideoStreamInfo(h264, (720 x 544))>']\n",
      "            audio: ['<AudioStreamInfo(eng, ac3, 6ch, 5.1(side), 640kb/s)>', '<AudioStreamInfo(eng, ac3, 2ch, stereo, 224kb/s)>']\n",
      "            sub: ['<SubtitleStreamInfo(eng, 01:29:52)>', '<SubtitleStreamInfo(dut, 01:29:52)>']\n",
      "K:\\Library_dvd\\films\\Mulholland Drive (2001)\\Mulholland Drive (2001).mkv\n",
      "            video: 02:20:32, 2.2 GB, ['<VideoStreamInfo(h264, (720 x 560))>']\n",
      "            audio: ['<AudioStreamInfo(eng, dts, 6ch, 5.1(side), 768kb/s)>', '<AudioStreamInfo(eng, ac3, 2ch, stereo, 192kb/s)>']\n",
      "            sub: ['<SubtitleStreamInfo(dut, 02:20:32)>']\n",
      "K:\\Library_dvd\\films\\Nosferatu (1922)\\Nosferatu (1922).mkv\n",
      "            video: 01:34:07, 2.1 GB, ['<VideoStreamInfo(h264, (720 x 576))>']\n",
      "            audio: ['<AudioStreamInfo(eng, ac3, 6ch, 5.1(side), 640kb/s)>', '<AudioStreamInfo(eng, ac3, 2ch, stereo, 224kb/s)>']\n",
      "            sub: ['<SubtitleStreamInfo(dut, 01:34:07)>']\n",
      "K:\\Library_dvd\\films\\Once Upon a Time in America (1984)\\Once Upon a Time in America (1984).mkv\n",
      "            video: 03:39:32, 6.8 GB, ['<VideoStreamInfo(h264, (720 x 576))>']\n",
      "            audio: ['<AudioStreamInfo(eng, ac3, 6ch, 5.1(side), 384kb/s)>', '<AudioStreamInfo(eng, aac, 2ch, stereo, -1kb/s)>']\n",
      "            sub: ['<SubtitleStreamInfo(eng, 03:39:32)>', '<SubtitleStreamInfo(dut, 03:39:32)>']\n",
      "K:\\Library_dvd\\films\\Queen Rock Montreal & Live Aid (1981)\\Queen Rock Montreal & Live Aid (1981).mkv\n",
      "            video: 01:35:21, 2.4 GB, ['<VideoStreamInfo(h264, (720 x 576))>']\n",
      "            audio: ['<AudioStreamInfo(eng, dts, 6ch, 5.1(side), 1536kb/s)>', '<AudioStreamInfo(eng, aac, 2ch, stereo, -1kb/s)>']\n",
      "            sub: ['<SubtitleStreamInfo(eng, 01:35:21)>', '<SubtitleStreamInfo(dut, 01:35:21)>', '<SubtitleStreamInfo(eng, 01:35:21)>', '<SubtitleStreamInfo(eng, 01:35:21)>']\n",
      "K:\\Library_dvd\\films\\Radiohead - Meeting People Is Easy (1998)\\Radiohead - Meeting People Is Easy (1998).mkv\n",
      "            video: 01:34:04, 2.3 GB, ['<VideoStreamInfo(h264, (696 x 584))>']\n",
      "            audio: ['<AudioStreamInfo(eng, ac3, 6ch, 5.1(side), 448kb/s)>', '<AudioStreamInfo(eng, ac3, 2ch, stereo, 192kb/s)>']\n",
      "            sub: []\n",
      "K:\\Library_dvd\\films\\Scarface (1983)\\Scarface (1983).mkv\n",
      "            video: 02:42:57, 3.1 GB, ['<VideoStreamInfo(h264, (720 x 432))>']\n",
      "            audio: ['<AudioStreamInfo(eng, ac3, 6ch, 5.1(side), 640kb/s)>', '<AudioStreamInfo(eng, ac3, 2ch, stereo, 224kb/s)>']\n",
      "            sub: ['<SubtitleStreamInfo(eng, 02:42:57)>', '<SubtitleStreamInfo(eng, 02:42:57)>', '<SubtitleStreamInfo(dut, 02:42:57)>']\n",
      "K:\\Library_dvd\\films\\Shakespeare in Love (1998)\\Shakespeare in Love (1998).mkv\n",
      "            video: 01:58:36, 1.9 GB, ['<VideoStreamInfo(h264, (720 x 432))>']\n",
      "            audio: ['<AudioStreamInfo(eng, ac3, 6ch, 5.1(side), 640kb/s)>', '<AudioStreamInfo(eng, ac3, 2ch, stereo, 224kb/s)>']\n",
      "            sub: ['<SubtitleStreamInfo(eng, 01:58:36)>', '<SubtitleStreamInfo(dut, 01:58:36)>']\n",
      "K:\\Library_dvd\\films\\Spring, Summer, Fall, Winter... and Spring (2003)\\Spring, Summer, Fall, Winter... and Spring (2003).mkv\n",
      "            video: 01:38:17, 2.5 GB, ['<VideoStreamInfo(h264, (720 x 560))>']\n",
      "            audio: ['<AudioStreamInfo(kor, ac3, 6ch, 5.1(side), 448kb/s)>', '<AudioStreamInfo(kor, ac3, 2ch, stereo, 192kb/s)>']\n",
      "            sub: ['<SubtitleStreamInfo(dut, 01:38:17)>']\n",
      "K:\\Library_dvd\\films\\Steve + Sky (2004)\\Steve + Sky (2004).mkv\n",
      "            video: 01:37:21, 2.9 GB, ['<VideoStreamInfo(h264, (720 x 560))>']\n",
      "            audio: ['<AudioStreamInfo(dut, ac3, 6ch, 5.1(side), 640kb/s)>', '<AudioStreamInfo(dut, ac3, 2ch, stereo, 224kb/s)>']\n",
      "            sub: ['<SubtitleStreamInfo(dut, 01:37:21)>']\n",
      "K:\\Library_dvd\\films\\Taxi Driver (1976)\\Taxi Driver (1976).mkv\n",
      "            video: 01:49:07, 2.3 GB, ['<VideoStreamInfo(h264, (720 x 544))>']\n",
      "            audio: ['<AudioStreamInfo(eng, ac3, 6ch, 5.1(side), 448kb/s)>', '<AudioStreamInfo(eng, ac3, 2ch, stereo, 224kb/s)>']\n",
      "            sub: ['<SubtitleStreamInfo(eng, 01:49:07)>', '<SubtitleStreamInfo(dut, 01:49:07)>']\n",
      "K:\\Library_dvd\\films\\The Broken Circle Breakdown (2012)\\The Broken Circle Breakdown (2012).mkv\n",
      "            video: 01:37:01, 1.9 GB, ['<VideoStreamInfo(h264, (720 x 576))>']\n",
      "            audio: ['<AudioStreamInfo(eng, ac3, 6ch, 5.1(side), 640kb/s)>', '<AudioStreamInfo(eng, aac, 2ch, stereo, -1kb/s)>']\n",
      "            sub: ['<SubtitleStreamInfo(dut, 01:37:01)>']\n",
      "K:\\Library_dvd\\films\\The Good, the Bad and the Ugly (1966)\\The Good, the Bad and the Ugly (1966).mkv\n",
      "            video: 02:51:21, 3.4 GB, ['<VideoStreamInfo(h264, (720 x 432))>']\n",
      "            audio: ['<AudioStreamInfo(eng, ac3, 6ch, 5.1(side), 448kb/s)>', '<AudioStreamInfo(eng, ac3, 2ch, stereo, 224kb/s)>']\n",
      "            sub: ['<SubtitleStreamInfo(eng, 02:51:21)>', '<SubtitleStreamInfo(dut, 02:51:21)>']\n",
      "K:\\Library_dvd\\films\\The Wolf of Wall Street (2013)\\The Wolf of Wall Street (2013).mkv\n",
      "            video: 02:52:09, 2.1 GB, ['<VideoStreamInfo(h264, (720 x 432))>']\n",
      "            audio: ['<AudioStreamInfo(unknown_lang, ac3, 6ch, 5.1(side), 448kb/s)>', '<AudioStreamInfo(unknown_lang, aac, 2ch, stereo, -1kb/s)>']\n",
      "            sub: ['<SubtitleStreamInfo(unknown_lang, 02:52:09)>']\n",
      "K:\\Library_dvd\\films\\There Will Be Blood (2007)\\There Will Be Blood (2007).mkv\n",
      "            video: 02:31:54, 2.4 GB, ['<VideoStreamInfo(h264, (720 x 432))>']\n",
      "            audio: ['<AudioStreamInfo(eng, ac3, 6ch, 5.1(side), 640kb/s)>', '<AudioStreamInfo(eng, ac3, 2ch, stereo, 224kb/s)>']\n",
      "            sub: ['<SubtitleStreamInfo(eng, 02:31:54)>', '<SubtitleStreamInfo(eng, 00:00:00)>', '<SubtitleStreamInfo(dut, 00:00:00)>']\n",
      "K:\\Library_dvd\\films\\Walk the Line (2005)\\Walk the Line (2005).mkv\n",
      "            video: 02:10:18, 1.9 GB, ['<VideoStreamInfo(h264, (720 x 416))>']\n",
      "            audio: ['<AudioStreamInfo(eng, dts, 6ch, 5.1(side), 768kb/s)>', '<AudioStreamInfo(eng, ac3, 2ch, stereo, 224kb/s)>']\n",
      "            sub: ['<SubtitleStreamInfo(eng, 00:00:00)>', '<SubtitleStreamInfo(dut, 00:00:00)>', '<SubtitleStreamInfo(dut, 00:00:00)>']\n",
      "K:\\Library_dvd\\films\\WALL·E (2008)\\WALL·E (2008).mkv\n",
      "            video: 01:33:20, 2.0 GB, ['<VideoStreamInfo(h264, (720 x 432))>']\n",
      "            audio: ['<AudioStreamInfo(eng, ac3, 6ch, 5.1(side), 640kb/s)>', '<AudioStreamInfo(eng, ac3, 2ch, stereo, 224kb/s)>', '<AudioStreamInfo(dut, ac3, 6ch, 5.1(side), 640kb/s)>', '<AudioStreamInfo(dut, aac, 2ch, stereo, -1kb/s)>']\n",
      "            sub: ['<SubtitleStreamInfo(eng, 01:33:20)>', '<SubtitleStreamInfo(eng, 00:00:00)>', '<SubtitleStreamInfo(dut, 00:00:00)>']\n"
     ]
    },
    {
     "name": "stdout",
     "output_type": "stream",
     "text": [
      "K:\\Library_dvd\\films\\Waltz with Bashir (2008)\\Waltz with Bashir (2008).mkv\n",
      "            video: 01:26:41, 1.6 GB, ['<VideoStreamInfo(h264, (720 x 576))>']\n",
      "            audio: ['<AudioStreamInfo(eng, ac3, 6ch, 5.1(side), 640kb/s)>', '<AudioStreamInfo(eng, ac3, 2ch, stereo, 224kb/s)>']\n",
      "            sub: ['<SubtitleStreamInfo(dut, 01:26:41)>']\n"
     ]
    }
   ],
   "source": [
    "for file in file_dir3.glob('**/*.mkv'):\n",
    "    m = MkvFileDB(file)\n",
    "    if any(a.channels > 2 for a in m.audio):\n",
    "        print(m)"
   ]
  },
  {
   "cell_type": "code",
   "execution_count": null,
   "metadata": {
    "collapsed": true
   },
   "outputs": [],
   "source": [
    "m = MkvFileDB(file)"
   ]
  },
  {
   "cell_type": "code",
   "execution_count": 13,
   "metadata": {},
   "outputs": [
    {
     "data": {
      "text/plain": [
       "2"
      ]
     },
     "execution_count": 13,
     "metadata": {},
     "output_type": "execute_result"
    }
   ],
   "source": [
    "m.audio[0].channels"
   ]
  },
  {
   "cell_type": "code",
   "execution_count": null,
   "metadata": {
    "collapsed": true
   },
   "outputs": [],
   "source": []
  }
 ],
 "metadata": {
  "kernelspec": {
   "display_name": "Python 3",
   "language": "python",
   "name": "python3"
  },
  "language_info": {
   "codemirror_mode": {
    "name": "ipython",
    "version": 3
   },
   "file_extension": ".py",
   "mimetype": "text/x-python",
   "name": "python",
   "nbconvert_exporter": "python",
   "pygments_lexer": "ipython3",
   "version": "3.6.0"
  },
  "toc": {
   "colors": {
    "hover_highlight": "#DAA520",
    "navigate_num": "#000000",
    "navigate_text": "#333333",
    "running_highlight": "#FF0000",
    "selected_highlight": "#FFD700",
    "sidebar_border": "#EEEEEE",
    "wrapper_background": "#FFFFFF"
   },
   "moveMenuLeft": true,
   "nav_menu": {
    "height": "12px",
    "width": "252px"
   },
   "navigate_menu": true,
   "number_sections": true,
   "sideBar": true,
   "threshold": 4,
   "toc_cell": false,
   "toc_section_display": "block",
   "toc_window_display": false,
   "widenNotebook": false
  }
 },
 "nbformat": 4,
 "nbformat_minor": 2
}
