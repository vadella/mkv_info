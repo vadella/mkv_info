{
 "cells": [
  {
   "cell_type": "code",
   "execution_count": 1,
   "metadata": {},
   "outputs": [],
   "source": [
    "%load_ext autoreload"
   ]
  },
  {
   "cell_type": "code",
   "execution_count": 2,
   "metadata": {},
   "outputs": [],
   "source": [
    "%autoreload 2\n",
    "from video_bibliotheek.video_info_db import MkvFileDB"
   ]
  },
  {
   "cell_type": "code",
   "execution_count": 3,
   "metadata": {},
   "outputs": [],
   "source": [
    "from pathlib import Path\n",
    "# from sqlalchemy import Base"
   ]
  },
  {
   "cell_type": "code",
   "execution_count": 4,
   "metadata": {
    "collapsed": true
   },
   "outputs": [],
   "source": [
    "from sqlalchemy import create_engine"
   ]
  },
  {
   "cell_type": "code",
   "execution_count": 5,
   "metadata": {
    "collapsed": true
   },
   "outputs": [],
   "source": [
    "engine = create_engine('sqlite:///file2.db', echo=True)"
   ]
  },
  {
   "cell_type": "code",
   "execution_count": 6,
   "metadata": {
    "collapsed": true
   },
   "outputs": [],
   "source": [
    "from sqlalchemy.orm import sessionmaker"
   ]
  },
  {
   "cell_type": "code",
   "execution_count": 7,
   "metadata": {},
   "outputs": [],
   "source": [
    "data_dir = Path('data')\n",
    "filename = data_dir.joinpath('Blackadder - S01E01 - The Foretelling.mkv')"
   ]
  },
  {
   "cell_type": "code",
   "execution_count": 8,
   "metadata": {},
   "outputs": [
    {
     "data": {
      "text/plain": [
       "data\\Blackadder - S01E01 - The Foretelling.mkv\n",
       "            video: 00:33:31, 0.9 GB, ['<VideoStreamInfo(h264, (720 x 592))>']\n",
       "            audio: ['<AudioStreamInfo(ac3, 2ch, stereo, 256kb/s)>']\n",
       "            sub: ['<SubtitleStreamInfo(eng, 00:33:31)>', '<SubtitleStreamInfo(dut, 00:33:31)>']"
      ]
     },
     "execution_count": 8,
     "metadata": {},
     "output_type": "execute_result"
    }
   ],
   "source": [
    "m = MkvFileDB(filename)\n",
    "m"
   ]
  },
  {
   "cell_type": "code",
   "execution_count": 9,
   "metadata": {},
   "outputs": [
    {
     "data": {
      "text/plain": [
       "Y:\\Walk the Line (2005)\\Walk the Line (2005).mkv\n",
       "            video: 02:10:18, 1.9 GB, ['<VideoStreamInfo(h264, (720 x 416))>']\n",
       "            audio: ['<AudioStreamInfo(dts, 6ch, 5.1(side), 768kb/s)>', '<AudioStreamInfo(ac3, 2ch, stereo, 224kb/s)>']\n",
       "            sub: ['<SubtitleStreamInfo(eng, 00:00:00)>', '<SubtitleStreamInfo(dut, 00:00:00)>', '<SubtitleStreamInfo(dut, 00:00:00)>']"
      ]
     },
     "execution_count": 9,
     "metadata": {},
     "output_type": "execute_result"
    }
   ],
   "source": [
    "filename = Path('Y:\\Walk the Line (2005)\\Walk the Line (2005).mkv')\n",
    "m2 = MkvFileDB(filename=filename)\n",
    "m2"
   ]
  },
  {
   "cell_type": "code",
   "execution_count": 10,
   "metadata": {},
   "outputs": [
    {
     "data": {
      "text/plain": [
       "data\\Blackadder - S01E01 - The Foretelling.mkv\n",
       "            video: 00:33:31, 0.9 GB, ['<VideoStreamInfo(h264, (720 x 592))>']\n",
       "            audio: ['<AudioStreamInfo(ac3, 2ch, stereo, 256kb/s)>']\n",
       "            sub: ['<SubtitleStreamInfo(eng, 00:33:31)>', '<SubtitleStreamInfo(dut, 00:33:31)>']"
      ]
     },
     "execution_count": 10,
     "metadata": {},
     "output_type": "execute_result"
    }
   ],
   "source": [
    "m"
   ]
  },
  {
   "cell_type": "code",
   "execution_count": 11,
   "metadata": {},
   "outputs": [
    {
     "name": "stdout",
     "output_type": "stream",
     "text": [
      "2017-07-23 00:29:44,872 INFO sqlalchemy.engine.base.Engine SELECT CAST('test plain returns' AS VARCHAR(60)) AS anon_1\n",
      "2017-07-23 00:29:44,878 INFO sqlalchemy.engine.base.Engine ()\n",
      "2017-07-23 00:29:44,880 INFO sqlalchemy.engine.base.Engine SELECT CAST('test unicode returns' AS VARCHAR(60)) AS anon_1\n",
      "2017-07-23 00:29:44,882 INFO sqlalchemy.engine.base.Engine ()\n",
      "2017-07-23 00:29:44,886 INFO sqlalchemy.engine.base.Engine PRAGMA table_info(\"mkv_file\")\n",
      "2017-07-23 00:29:44,889 INFO sqlalchemy.engine.base.Engine ()\n",
      "2017-07-23 00:29:44,891 INFO sqlalchemy.engine.base.Engine PRAGMA table_info(\"stream_mkv\")\n",
      "2017-07-23 00:29:44,892 INFO sqlalchemy.engine.base.Engine ()\n",
      "2017-07-23 00:29:44,895 INFO sqlalchemy.engine.base.Engine PRAGMA table_info(\"stream_info\")\n",
      "2017-07-23 00:29:44,896 INFO sqlalchemy.engine.base.Engine ()\n",
      "2017-07-23 00:29:44,898 INFO sqlalchemy.engine.base.Engine PRAGMA table_info(\"video_stream_info\")\n",
      "2017-07-23 00:29:44,899 INFO sqlalchemy.engine.base.Engine ()\n",
      "2017-07-23 00:29:44,901 INFO sqlalchemy.engine.base.Engine PRAGMA table_info(\"audio_stream_info\")\n",
      "2017-07-23 00:29:44,902 INFO sqlalchemy.engine.base.Engine ()\n",
      "2017-07-23 00:29:44,903 INFO sqlalchemy.engine.base.Engine PRAGMA table_info(\"subtitle_stream_info\")\n",
      "2017-07-23 00:29:44,904 INFO sqlalchemy.engine.base.Engine ()\n"
     ]
    }
   ],
   "source": [
    "MkvFileDB.metadata.create_all(engine)"
   ]
  },
  {
   "cell_type": "code",
   "execution_count": 12,
   "metadata": {},
   "outputs": [
    {
     "data": {
      "text/plain": [
       "Table('mkv_file', MetaData(bind=None), Column('id', Integer(), table=<mkv_file>, primary_key=True, nullable=False), Column('size', Float(), table=<mkv_file>), Column('duration', Time(), table=<mkv_file>), schema=None)"
      ]
     },
     "execution_count": 12,
     "metadata": {},
     "output_type": "execute_result"
    }
   ],
   "source": [
    "m.__table__"
   ]
  },
  {
   "cell_type": "code",
   "execution_count": 13,
   "metadata": {
    "collapsed": true
   },
   "outputs": [],
   "source": [
    "Session = sessionmaker(bind=engine)\n",
    "session = Session()"
   ]
  },
  {
   "cell_type": "code",
   "execution_count": 14,
   "metadata": {},
   "outputs": [],
   "source": [
    "session.add(m)"
   ]
  },
  {
   "cell_type": "code",
   "execution_count": 15,
   "metadata": {
    "collapsed": true
   },
   "outputs": [],
   "source": [
    "session.add(m2)"
   ]
  },
  {
   "cell_type": "code",
   "execution_count": 16,
   "metadata": {},
   "outputs": [
    {
     "data": {
      "text/plain": [
       "<sqlalchemy.orm.session.Session at 0x1e77b204358>"
      ]
     },
     "execution_count": 16,
     "metadata": {},
     "output_type": "execute_result"
    }
   ],
   "source": [
    "session"
   ]
  },
  {
   "cell_type": "code",
   "execution_count": 17,
   "metadata": {},
   "outputs": [
    {
     "name": "stdout",
     "output_type": "stream",
     "text": [
      "2017-07-23 00:28:29,489 INFO sqlalchemy.engine.base.Engine BEGIN (implicit)\n",
      "2017-07-23 00:28:29,491 INFO sqlalchemy.engine.base.Engine INSERT INTO mkv_file (size, duration) VALUES (?, ?)\n",
      "2017-07-23 00:28:29,492 INFO sqlalchemy.engine.base.Engine (0.9, '00:33:31.000000')\n",
      "2017-07-23 00:28:29,495 INFO sqlalchemy.engine.base.Engine INSERT INTO mkv_file (size, duration) VALUES (?, ?)\n",
      "2017-07-23 00:28:29,497 INFO sqlalchemy.engine.base.Engine (1.9, '02:10:18.000000')\n",
      "2017-07-23 00:28:29,501 INFO sqlalchemy.engine.base.Engine INSERT INTO stream_info (\"index\", codec_name, lang, typ) VALUES (?, ?, ?, ?)\n",
      "2017-07-23 00:28:29,503 INFO sqlalchemy.engine.base.Engine (0, 'h264', 'eng', 'video_stream_info')\n",
      "2017-07-23 00:28:29,505 INFO sqlalchemy.engine.base.Engine INSERT INTO stream_info (\"index\", codec_name, lang, typ) VALUES (?, ?, ?, ?)\n",
      "2017-07-23 00:28:29,506 INFO sqlalchemy.engine.base.Engine (1, 'ac3', 'eng', 'audio_stream_info')\n",
      "2017-07-23 00:28:29,508 INFO sqlalchemy.engine.base.Engine INSERT INTO stream_info (\"index\", codec_name, lang, typ) VALUES (?, ?, ?, ?)\n",
      "2017-07-23 00:28:29,509 INFO sqlalchemy.engine.base.Engine (2, 'dvd_subtitle', 'eng', 'subtitle_stream_info')\n",
      "2017-07-23 00:28:29,511 INFO sqlalchemy.engine.base.Engine INSERT INTO stream_info (\"index\", codec_name, lang, typ) VALUES (?, ?, ?, ?)\n",
      "2017-07-23 00:28:29,512 INFO sqlalchemy.engine.base.Engine (3, 'dvd_subtitle', 'dut', 'subtitle_stream_info')\n",
      "2017-07-23 00:28:29,513 INFO sqlalchemy.engine.base.Engine INSERT INTO stream_info (\"index\", codec_name, lang, typ) VALUES (?, ?, ?, ?)\n",
      "2017-07-23 00:28:29,514 INFO sqlalchemy.engine.base.Engine (0, 'h264', 'eng', 'video_stream_info')\n",
      "2017-07-23 00:28:29,515 INFO sqlalchemy.engine.base.Engine INSERT INTO stream_info (\"index\", codec_name, lang, typ) VALUES (?, ?, ?, ?)\n",
      "2017-07-23 00:28:29,516 INFO sqlalchemy.engine.base.Engine (1, 'dts', 'eng', 'audio_stream_info')\n",
      "2017-07-23 00:28:29,519 INFO sqlalchemy.engine.base.Engine INSERT INTO stream_info (\"index\", codec_name, lang, typ) VALUES (?, ?, ?, ?)\n",
      "2017-07-23 00:28:29,520 INFO sqlalchemy.engine.base.Engine (2, 'ac3', 'eng', 'audio_stream_info')\n",
      "2017-07-23 00:28:29,521 INFO sqlalchemy.engine.base.Engine INSERT INTO stream_info (\"index\", codec_name, lang, typ) VALUES (?, ?, ?, ?)\n",
      "2017-07-23 00:28:29,522 INFO sqlalchemy.engine.base.Engine (3, 'dvd_subtitle', 'eng', 'subtitle_stream_info')\n",
      "2017-07-23 00:28:29,523 INFO sqlalchemy.engine.base.Engine INSERT INTO stream_info (\"index\", codec_name, lang, typ) VALUES (?, ?, ?, ?)\n",
      "2017-07-23 00:28:29,524 INFO sqlalchemy.engine.base.Engine (4, 'dvd_subtitle', 'dut', 'subtitle_stream_info')\n",
      "2017-07-23 00:28:29,526 INFO sqlalchemy.engine.base.Engine INSERT INTO stream_info (\"index\", codec_name, lang, typ) VALUES (?, ?, ?, ?)\n",
      "2017-07-23 00:28:29,527 INFO sqlalchemy.engine.base.Engine (5, 'dvd_subtitle', 'dut', 'subtitle_stream_info')\n",
      "2017-07-23 00:28:29,529 INFO sqlalchemy.engine.base.Engine INSERT INTO video_stream_info (id, width, height, mkv_file_id) VALUES (?, ?, ?, ?)\n",
      "2017-07-23 00:28:29,531 INFO sqlalchemy.engine.base.Engine ((1, 720, 592, 1), (5, 720, 416, 2))\n",
      "2017-07-23 00:28:29,533 INFO sqlalchemy.engine.base.Engine INSERT INTO audio_stream_info (id, channels, channel_layout, bit_rate, mkv_file_id) VALUES (?, ?, ?, ?, ?)\n",
      "2017-07-23 00:28:29,536 INFO sqlalchemy.engine.base.Engine ((2, 2, 'stereo', 256, 1), (6, 6, '5.1(side)', 768, 2), (7, 2, 'stereo', 224, 2))\n",
      "2017-07-23 00:28:29,539 INFO sqlalchemy.engine.base.Engine INSERT INTO subtitle_stream_info (id, duration, mkv_file_id) VALUES (?, ?, ?)\n",
      "2017-07-23 00:28:29,540 INFO sqlalchemy.engine.base.Engine ((3, '00:33:31.000000', 1), (4, '00:33:31.000000', 1), (8, '00:00:00.000000', 2), (9, '00:00:00.000000', 2), (10, '00:00:00.000000', 2))\n",
      "2017-07-23 00:28:29,542 INFO sqlalchemy.engine.base.Engine COMMIT\n"
     ]
    }
   ],
   "source": [
    "session.commit()"
   ]
  },
  {
   "cell_type": "code",
   "execution_count": 18,
   "metadata": {
    "collapsed": true
   },
   "outputs": [],
   "source": [
    "session.flush()"
   ]
  },
  {
   "cell_type": "code",
   "execution_count": 19,
   "metadata": {},
   "outputs": [],
   "source": [
    "session.close()"
   ]
  },
  {
   "cell_type": "code",
   "execution_count": null,
   "metadata": {},
   "outputs": [],
   "source": []
  }
 ],
 "metadata": {
  "kernelspec": {
   "display_name": "Python [conda env:mediadatabase]",
   "language": "python",
   "name": "conda-env-mediadatabase-py"
  },
  "language_info": {
   "codemirror_mode": {
    "name": "ipython",
    "version": 3
   },
   "file_extension": ".py",
   "mimetype": "text/x-python",
   "name": "python",
   "nbconvert_exporter": "python",
   "pygments_lexer": "ipython3",
   "version": "3.6.2"
  },
  "toc": {
   "colors": {
    "hover_highlight": "#DAA520",
    "navigate_num": "#000000",
    "navigate_text": "#333333",
    "running_highlight": "#FF0000",
    "selected_highlight": "#FFD700",
    "sidebar_border": "#EEEEEE",
    "wrapper_background": "#FFFFFF"
   },
   "moveMenuLeft": true,
   "nav_menu": {
    "height": "12px",
    "width": "252px"
   },
   "navigate_menu": true,
   "number_sections": true,
   "sideBar": true,
   "threshold": 4,
   "toc_cell": false,
   "toc_section_display": "block",
   "toc_window_display": false,
   "widenNotebook": false
  }
 },
 "nbformat": 4,
 "nbformat_minor": 2
}
