{
 "cells": [
  {
   "cell_type": "code",
   "execution_count": 13,
   "metadata": {},
   "outputs": [],
   "source": [
    "import mkv_info.library_xml as library_xml\n",
    "import xml.etree.ElementTree as ET\n",
    "import typing\n",
    "import datetime\n",
    "from pathlib import Path"
   ]
  },
  {
   "cell_type": "code",
   "execution_count": 14,
   "metadata": {},
   "outputs": [],
   "source": [
    "stream = ET.fromstring(\n",
    "    \"\"\"\n",
    "        <video>\n",
    "            <height>864</height>\n",
    "        </video>\n",
    "    \"\"\"\n",
    ")"
   ]
  },
  {
   "cell_type": "code",
   "execution_count": 9,
   "metadata": {},
   "outputs": [],
   "source": [
    "HOME_PATH = Path(\"../\")\n",
    "DATA_DIR = HOME_PATH / \"data\"\n",
    "OUTPUT_DIR = HOME_PATH / \"output\"\n",
    "OUTPUT_DIR.m\n",
    "\n",
    "\n",
    "data_file = DATA_DIR / \"videodb.xml\"\n",
    "tree = ET.parse(data_file)\n",
    "root = tree.getroot()\n",
    "library = library_xml.VideoDatabase.from_data(root)\n"
   ]
  },
  {
   "cell_type": "code",
   "execution_count": 12,
   "metadata": {},
   "outputs": [
    {
     "name": "stdout",
     "output_type": "stream",
     "text": [
      "Movie(title=<2001: A Space Odyssey>, year=<>1968, duration=<2:29:00>)\n",
      "\tVideoStream(codec='h264', width=1920, height=864)\n",
      "\tAudioStream(codec='ac-3', language='eng', channels=6)\n",
      "\tSubStream(language='eng')\n",
      "\tSubStream(language='dut')\n"
     ]
    }
   ],
   "source": [
    "m = library.movies[0]\n",
    "print(str(m))\n"
   ]
  },
  {
   "cell_type": "code",
   "execution_count": 11,
   "metadata": {},
   "outputs": [
    {
     "ename": "SyntaxError",
     "evalue": "invalid syntax (Temp/ipykernel_10828/3640961446.py, line 2)",
     "output_type": "error",
     "traceback": [
      "\u001b[1;36m  File \u001b[1;32m\"C:\\Users\\maart\\AppData\\Local\\Temp/ipykernel_10828/3640961446.py\"\u001b[1;36m, line \u001b[1;32m2\u001b[0m\n\u001b[1;33m    print(m.)\u001b[0m\n\u001b[1;37m            ^\u001b[0m\n\u001b[1;31mSyntaxError\u001b[0m\u001b[1;31m:\u001b[0m invalid syntax\n"
     ]
    }
   ],
   "source": []
  },
  {
   "cell_type": "code",
   "execution_count": null,
   "metadata": {},
   "outputs": [],
   "source": []
  }
 ],
 "metadata": {
  "interpreter": {
   "hash": "472f0264c045fc960122a99b18956819ab84b04586991b6e68d87f3bf4703804"
  },
  "kernelspec": {
   "display_name": "Python [conda env:mkv_info]",
   "language": "python",
   "name": "python3"
  },
  "language_info": {
   "codemirror_mode": {
    "name": "ipython",
    "version": 3
   },
   "file_extension": ".py",
   "mimetype": "text/x-python",
   "name": "python",
   "nbconvert_exporter": "python",
   "pygments_lexer": "ipython3",
   "version": "3.9.7"
  }
 },
 "nbformat": 4,
 "nbformat_minor": 4
}
