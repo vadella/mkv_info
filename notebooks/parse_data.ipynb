{
 "cells": [
  {
   "cell_type": "code",
   "execution_count": 1,
   "metadata": {},
   "outputs": [],
   "source": [
    "import mkv_info.library_xml\n",
    "import xml.etree.ElementTree as ET\n",
    "import typing\n",
    "import datetime\n",
    "from pathlib import Path"
   ]
  },
  {
   "cell_type": "code",
   "execution_count": 2,
   "metadata": {},
   "outputs": [],
   "source": [
    "stream = ET.fromstring(\n",
    "    \"\"\"\n",
    "        <video>\n",
    "            <height>864</height>\n",
    "        </video>\n",
    "    \"\"\"\n",
    ")"
   ]
  },
  {
   "cell_type": "code",
   "execution_count": 5,
   "metadata": {},
   "outputs": [],
   "source": [
    "HOME_PATH = Path(\"../\")\n",
    "DATA_DIR = HOME_PATH / \"data\"\n",
    "OUTPUT_DIR = HOME_PATH / \"output\"\n",
    "OUTPUT_DIR.mkdir(parents=True, exist_ok=True)\n",
    "\n",
    "\n",
    "data_file = DATA_DIR / \"videodb.xml\"\n",
    "tree = ET.parse(data_file)\n",
    "root = tree.getroot()\n",
    "library = mkv_info.library_xml.XML_Parser.parse_video_database(root)\n"
   ]
  },
  {
   "cell_type": "code",
   "execution_count": 6,
   "metadata": {},
   "outputs": [
    {
     "name": "stdout",
     "output_type": "stream",
     "text": [
      "Movie(title=<2001: A Space Odyssey>, year=<1968>, duration=<2:29:00>)\n",
      "\tVideoStream(codec='h264', width=1920, height=864)\n",
      "\tAudioStream(codec='ac-3', language='eng', channels=6)\n",
      "\tSubStream(language='eng')\n",
      "\tSubStream(language='dut')\n"
     ]
    }
   ],
   "source": [
    "m = library.movies[0]\n",
    "print(str(m))\n"
   ]
  },
  {
   "cell_type": "code",
   "execution_count": null,
   "metadata": {},
   "outputs": [],
   "source": []
  },
  {
   "cell_type": "code",
   "execution_count": null,
   "metadata": {},
   "outputs": [],
   "source": []
  }
 ],
 "metadata": {
  "interpreter": {
   "hash": "472f0264c045fc960122a99b18956819ab84b04586991b6e68d87f3bf4703804"
  },
  "kernelspec": {
   "display_name": "Python [conda env:mkv_info]",
   "language": "python",
   "name": "python3"
  },
  "language_info": {
   "codemirror_mode": {
    "name": "ipython",
    "version": 3
   },
   "file_extension": ".py",
   "mimetype": "text/x-python",
   "name": "python",
   "nbconvert_exporter": "python",
   "pygments_lexer": "ipython3",
   "version": "3.9.7"
  }
 },
 "nbformat": 4,
 "nbformat_minor": 4
}
